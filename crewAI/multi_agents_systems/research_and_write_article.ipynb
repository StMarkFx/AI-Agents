{
 "cells": [
  {
   "cell_type": "markdown",
   "metadata": {},
   "source": [
    "You can download the `requirements.txt` for this course from the workspace of this lab. `File --> Open...`"
   ]
  },
  {
   "cell_type": "markdown",
   "metadata": {},
   "source": [
    "# L2: Create Agents to Research and Write an Article\n",
    "\n",
    "In this lesson, you will be introduced to the foundational concepts of multi-agent systems and get an overview of the crewAI framework."
   ]
  },
  {
   "cell_type": "markdown",
   "metadata": {},
   "source": [
    "The libraries are already installed in the classroom. If you're running this notebook on your own machine, you can install the following:\n",
    "```Python\n",
    "!pip install crewai==0.28.8 crewai_tools==0.1.6 langchain_community==0.0.29\n",
    "```"
   ]
  },
  {
   "cell_type": "code",
   "execution_count": 1,
   "metadata": {
    "height": 64
   },
   "outputs": [],
   "source": [
    "# Warning control\n",
    "import warnings\n",
    "warnings.filterwarnings('ignore')"
   ]
  },
  {
   "cell_type": "markdown",
   "metadata": {},
   "source": [
    "- Import from the crewAI libray."
   ]
  },
  {
   "cell_type": "code",
   "execution_count": 2,
   "metadata": {
    "height": 30
   },
   "outputs": [],
   "source": [
    "from crewai import Agent, Task, Crew"
   ]
  },
  {
   "cell_type": "markdown",
   "metadata": {},
   "source": [
    "- As a LLM for your agents, you'll be using OpenAI's `gpt-3.5-turbo`.\n",
    "\n",
    "**Optional Note:** crewAI also allow other popular models to be used as a LLM for your Agents. You can see some of the examples at the [bottom of the notebook](#1)."
   ]
  },
  {
   "cell_type": "code",
   "execution_count": 3,
   "metadata": {
    "height": 115
   },
   "outputs": [],
   "source": [
    "import os\n",
    "from utils import get_openai_api_key\n",
    "\n",
    "openai_api_key = get_openai_api_key()\n",
    "os.environ[\"OPENAI_MODEL_NAME\"] = 'gpt-3.5-turbo'"
   ]
  },
  {
   "cell_type": "markdown",
   "metadata": {},
   "source": [
    "## Creating Agents\n",
    "\n",
    "- Define your Agents, and provide them a `role`, `goal` and `backstory`.\n",
    "- It has been seen that LLMs perform better when they are role playing."
   ]
  },
  {
   "cell_type": "markdown",
   "metadata": {},
   "source": [
    "### Agent: Planner\n",
    "\n",
    "**Note**: The benefit of using _multiple strings_ :\n",
    "```Python\n",
    "varname = \"line 1 of text\"\n",
    "          \"line 2 of text\"\n",
    "```\n",
    "\n",
    "versus the _triple quote docstring_:\n",
    "```Python\n",
    "varname = \"\"\"line 1 of text\n",
    "             line 2 of text\n",
    "          \"\"\"\n",
    "```\n",
    "is that it can avoid adding those whitespaces and newline characters, making it better formatted to be passed to the LLM."
   ]
  },
  {
   "cell_type": "code",
   "execution_count": 4,
   "metadata": {
    "height": 251
   },
   "outputs": [],
   "source": [
    "planner = Agent(\n",
    "    role=\"Content Planner\",\n",
    "    goal=\"Plan engaging and factually accurate content on {topic}\",\n",
    "    backstory=\"You're working on planning a blog article \"\n",
    "              \"about the topic: {topic}.\"\n",
    "              \"You collect information that helps the \"\n",
    "              \"audience learn something \"\n",
    "              \"and make informed decisions. \"\n",
    "              \"Your work is the basis for \"\n",
    "              \"the Content Writer to write an article on this topic.\",\n",
    "    allow_delegation=False,\n",
    "\tverbose=True\n",
    ")"
   ]
  },
  {
   "cell_type": "markdown",
   "metadata": {},
   "source": [
    "### Agent: Writer"
   ]
  },
  {
   "cell_type": "code",
   "execution_count": 5,
   "metadata": {
    "height": 387
   },
   "outputs": [],
   "source": [
    "writer = Agent(\n",
    "    role=\"Content Writer\",\n",
    "    goal=\"Write insightful and factually accurate \"\n",
    "         \"opinion piece about the topic: {topic}\",\n",
    "    backstory=\"You're working on a writing \"\n",
    "              \"a new opinion piece about the topic: {topic}. \"\n",
    "              \"You base your writing on the work of \"\n",
    "              \"the Content Planner, who provides an outline \"\n",
    "              \"and relevant context about the topic. \"\n",
    "              \"You follow the main objectives and \"\n",
    "              \"direction of the outline, \"\n",
    "              \"as provide by the Content Planner. \"\n",
    "              \"You also provide objective and impartial insights \"\n",
    "              \"and back them up with information \"\n",
    "              \"provide by the Content Planner. \"\n",
    "              \"You acknowledge in your opinion piece \"\n",
    "              \"when your statements are opinions \"\n",
    "              \"as opposed to objective statements.\",\n",
    "    allow_delegation=False,\n",
    "    verbose=True\n",
    ")"
   ]
  },
  {
   "cell_type": "markdown",
   "metadata": {},
   "source": [
    "### Agent: Editor"
   ]
  },
  {
   "cell_type": "code",
   "execution_count": 6,
   "metadata": {
    "height": 285
   },
   "outputs": [],
   "source": [
    "editor = Agent(\n",
    "    role=\"Editor\",\n",
    "    goal=\"Edit a given blog post to align with \"\n",
    "         \"the writing style of the organization. \",\n",
    "    backstory=\"You are an editor who receives a blog post \"\n",
    "              \"from the Content Writer. \"\n",
    "              \"Your goal is to review the blog post \"\n",
    "              \"to ensure that it follows journalistic best practices,\"\n",
    "              \"provides balanced viewpoints \"\n",
    "              \"when providing opinions or assertions, \"\n",
    "              \"and also avoids major controversial topics \"\n",
    "              \"or opinions when possible.\",\n",
    "    allow_delegation=False,\n",
    "    verbose=True\n",
    ")"
   ]
  },
  {
   "cell_type": "markdown",
   "metadata": {},
   "source": [
    "## Creating Tasks\n",
    "\n",
    "- Define your Tasks, and provide them a `description`, `expected_output` and `agent`."
   ]
  },
  {
   "cell_type": "markdown",
   "metadata": {},
   "source": [
    "### Task: Plan"
   ]
  },
  {
   "cell_type": "code",
   "execution_count": 7,
   "metadata": {
    "height": 285
   },
   "outputs": [],
   "source": [
    "plan = Task(\n",
    "    description=(\n",
    "        \"1. Prioritize the latest trends, key players, \"\n",
    "            \"and noteworthy news on {topic}.\\n\"\n",
    "        \"2. Identify the target audience, considering \"\n",
    "            \"their interests and pain points.\\n\"\n",
    "        \"3. Develop a detailed content outline including \"\n",
    "            \"an introduction, key points, and a call to action.\\n\"\n",
    "        \"4. Include SEO keywords and relevant data or sources.\"\n",
    "    ),\n",
    "    expected_output=\"A comprehensive content plan document \"\n",
    "        \"with an outline, audience analysis, \"\n",
    "        \"SEO keywords, and resources.\",\n",
    "    agent=planner,\n",
    ")"
   ]
  },
  {
   "cell_type": "markdown",
   "metadata": {},
   "source": [
    "### Task: Write"
   ]
  },
  {
   "cell_type": "code",
   "execution_count": 8,
   "metadata": {
    "height": 336
   },
   "outputs": [],
   "source": [
    "write = Task(\n",
    "    description=(\n",
    "        \"1. Use the content plan to craft a compelling \"\n",
    "            \"blog post on {topic}.\\n\"\n",
    "        \"2. Incorporate SEO keywords naturally.\\n\"\n",
    "\t\t\"3. Sections/Subtitles are properly named \"\n",
    "            \"in an engaging manner.\\n\"\n",
    "        \"4. Ensure the post is structured with an \"\n",
    "            \"engaging introduction, insightful body, \"\n",
    "            \"and a summarizing conclusion.\\n\"\n",
    "        \"5. Proofread for grammatical errors and \"\n",
    "            \"alignment with the brand's voice.\\n\"\n",
    "    ),\n",
    "    expected_output=\"A well-written blog post \"\n",
    "        \"in markdown format, ready for publication, \"\n",
    "        \"each section should have 2 or 3 paragraphs.\",\n",
    "    agent=writer,\n",
    ")"
   ]
  },
  {
   "cell_type": "markdown",
   "metadata": {},
   "source": [
    "### Task: Edit"
   ]
  },
  {
   "cell_type": "code",
   "execution_count": 9,
   "metadata": {
    "height": 183
   },
   "outputs": [],
   "source": [
    "edit = Task(\n",
    "    description=(\"Proofread the given blog post for \"\n",
    "                 \"grammatical errors and \"\n",
    "                 \"alignment with the brand's voice.\"),\n",
    "    expected_output=\"A well-written blog post in markdown format, \"\n",
    "                    \"ready for publication, \"\n",
    "                    \"each section should have 2 or 3 paragraphs.\",\n",
    "    agent=editor\n",
    ")"
   ]
  },
  {
   "cell_type": "markdown",
   "metadata": {},
   "source": [
    "## Creating the Crew\n",
    "\n",
    "- Create your crew of Agents\n",
    "- Pass the tasks to be performed by those agents.\n",
    "    - **Note**: *For this simple example*, the tasks will be performed sequentially (i.e they are dependent on each other), so the _order_ of the task in the list _matters_.\n",
    "- `verbose=2` allows you to see all the logs of the execution. "
   ]
  },
  {
   "cell_type": "code",
   "execution_count": 10,
   "metadata": {
    "height": 98
   },
   "outputs": [],
   "source": [
    "crew = Crew(\n",
    "    agents=[planner, writer, editor],\n",
    "    tasks=[plan, write, edit],\n",
    "    verbose=2\n",
    ")"
   ]
  },
  {
   "cell_type": "markdown",
   "metadata": {},
   "source": [
    "## Running the Crew"
   ]
  },
  {
   "cell_type": "markdown",
   "metadata": {},
   "source": [
    "**Note**: LLMs can provide different outputs for they same input, so what you get might be different than what you see in the video."
   ]
  },
  {
   "cell_type": "code",
   "execution_count": 11,
   "metadata": {
    "height": 47
   },
   "outputs": [
    {
     "name": "stdout",
     "output_type": "stream",
     "text": [
      "\u001b[1m\u001b[95m [DEBUG]: == Working Agent: Content Planner\u001b[00m\n",
      "\u001b[1m\u001b[95m [INFO]: == Starting Task: 1. Prioritize the latest trends, key players, and noteworthy news on Artificial Intelligence.\n",
      "2. Identify the target audience, considering their interests and pain points.\n",
      "3. Develop a detailed content outline including an introduction, key points, and a call to action.\n",
      "4. Include SEO keywords and relevant data or sources.\u001b[00m\n",
      "\n",
      "\n",
      "\u001b[1m> Entering new CrewAgentExecutor chain...\u001b[0m\n",
      "\u001b[32;1m\u001b[1;3mI now can give a great answer\n",
      "\n",
      "Final Answer:\n",
      "\n",
      "Title: The Future of Artificial Intelligence: Trends, Players, and News\n",
      "\n",
      "Introduction:\n",
      "- Brief overview of Artificial Intelligence (AI) and its impact on various industries\n",
      "- Importance of staying updated on the latest trends and news in AI\n",
      "\n",
      "Key Points:\n",
      "1. Latest Trends in Artificial Intelligence:\n",
      "- Machine learning advancements\n",
      "- Natural language processing innovations\n",
      "- AI in healthcare and medical research\n",
      "- Ethical considerations in AI development\n",
      "\n",
      "2. Key Players in the AI Industry:\n",
      "- Google's DeepMind\n",
      "- IBM Watson\n",
      "- Amazon Web Services (AWS)\n",
      "- Microsoft Azure\n",
      "- OpenAI\n",
      "\n",
      "3. Noteworthy News in Artificial Intelligence:\n",
      "- Recent breakthroughs in AI technology\n",
      "- AI applications in autonomous vehicles\n",
      "- AI ethics and regulations updates\n",
      "- Impact of AI on job market and economy\n",
      "\n",
      "4. Target Audience: \n",
      "- Tech enthusiasts\n",
      "- Business professionals interested in AI integration\n",
      "- Students and researchers in AI field\n",
      "- Decision-makers in companies considering AI implementation\n",
      "\n",
      "5. Audience Interests and Pain Points:\n",
      "- Interest in cutting-edge technology and innovation\n",
      "- Concerns about AI's potential impact on society and privacy\n",
      "- Desire for practical applications and case studies in AI\n",
      "\n",
      "6. Call to Action:\n",
      "- Encourage audience to stay informed by following reputable AI news sources\n",
      "- Suggest joining AI forums or communities for networking and learning opportunities\n",
      "\n",
      "SEO Keywords:\n",
      "- Artificial Intelligence trends 2021\n",
      "- Top AI companies\n",
      "- AI news updates\n",
      "- Future of AI technology\n",
      "- Ethical AI development\n",
      "\n",
      "Resources:\n",
      "1. Forbes - \"The Latest Trends in Artificial Intelligence\"\n",
      "2. TechCrunch - \"Top Players in the AI Industry\"\n",
      "3. Harvard Business Review - \"Ethical Considerations in AI\"\n",
      "4. MIT Technology Review - \"AI News and Breakthroughs\"\n",
      "5. LinkedIn AI Community - Networking and Resources\n",
      "\n",
      "Overall, this content plan aims to provide a comprehensive overview of the latest trends, key players, and noteworthy news in the field of Artificial Intelligence. By targeting a diverse audience and incorporating relevant SEO keywords and resources, the blog article will engage readers and offer valuable insights for making informed decisions in the rapidly evolving AI landscape.\u001b[0m\n",
      "\n",
      "\u001b[1m> Finished chain.\u001b[0m\n",
      "\u001b[1m\u001b[92m [DEBUG]: == [Content Planner] Task output: Title: The Future of Artificial Intelligence: Trends, Players, and News\n",
      "\n",
      "Introduction:\n",
      "- Brief overview of Artificial Intelligence (AI) and its impact on various industries\n",
      "- Importance of staying updated on the latest trends and news in AI\n",
      "\n",
      "Key Points:\n",
      "1. Latest Trends in Artificial Intelligence:\n",
      "- Machine learning advancements\n",
      "- Natural language processing innovations\n",
      "- AI in healthcare and medical research\n",
      "- Ethical considerations in AI development\n",
      "\n",
      "2. Key Players in the AI Industry:\n",
      "- Google's DeepMind\n",
      "- IBM Watson\n",
      "- Amazon Web Services (AWS)\n",
      "- Microsoft Azure\n",
      "- OpenAI\n",
      "\n",
      "3. Noteworthy News in Artificial Intelligence:\n",
      "- Recent breakthroughs in AI technology\n",
      "- AI applications in autonomous vehicles\n",
      "- AI ethics and regulations updates\n",
      "- Impact of AI on job market and economy\n",
      "\n",
      "4. Target Audience: \n",
      "- Tech enthusiasts\n",
      "- Business professionals interested in AI integration\n",
      "- Students and researchers in AI field\n",
      "- Decision-makers in companies considering AI implementation\n",
      "\n",
      "5. Audience Interests and Pain Points:\n",
      "- Interest in cutting-edge technology and innovation\n",
      "- Concerns about AI's potential impact on society and privacy\n",
      "- Desire for practical applications and case studies in AI\n",
      "\n",
      "6. Call to Action:\n",
      "- Encourage audience to stay informed by following reputable AI news sources\n",
      "- Suggest joining AI forums or communities for networking and learning opportunities\n",
      "\n",
      "SEO Keywords:\n",
      "- Artificial Intelligence trends 2021\n",
      "- Top AI companies\n",
      "- AI news updates\n",
      "- Future of AI technology\n",
      "- Ethical AI development\n",
      "\n",
      "Resources:\n",
      "1. Forbes - \"The Latest Trends in Artificial Intelligence\"\n",
      "2. TechCrunch - \"Top Players in the AI Industry\"\n",
      "3. Harvard Business Review - \"Ethical Considerations in AI\"\n",
      "4. MIT Technology Review - \"AI News and Breakthroughs\"\n",
      "5. LinkedIn AI Community - Networking and Resources\n",
      "\n",
      "Overall, this content plan aims to provide a comprehensive overview of the latest trends, key players, and noteworthy news in the field of Artificial Intelligence. By targeting a diverse audience and incorporating relevant SEO keywords and resources, the blog article will engage readers and offer valuable insights for making informed decisions in the rapidly evolving AI landscape.\n",
      "\n",
      "\u001b[00m\n",
      "\u001b[1m\u001b[95m [DEBUG]: == Working Agent: Content Writer\u001b[00m\n",
      "\u001b[1m\u001b[95m [INFO]: == Starting Task: 1. Use the content plan to craft a compelling blog post on Artificial Intelligence.\n",
      "2. Incorporate SEO keywords naturally.\n",
      "3. Sections/Subtitles are properly named in an engaging manner.\n",
      "4. Ensure the post is structured with an engaging introduction, insightful body, and a summarizing conclusion.\n",
      "5. Proofread for grammatical errors and alignment with the brand's voice.\n",
      "\u001b[00m\n",
      "\n",
      "\n",
      "\u001b[1m> Entering new CrewAgentExecutor chain...\u001b[0m\n",
      "\u001b[32;1m\u001b[1;3mI now can give a great answer\n",
      "\n",
      "Final Answer:\n",
      "\n",
      "# The Future of Artificial Intelligence: Trends, Players, and News\n",
      "\n",
      "## Introduction\n",
      "Artificial Intelligence (AI) has revolutionized various industries by providing advanced technologies and solutions. From machine learning to natural language processing, AI has transformed the way businesses operate and innovate. Staying updated on the latest trends and news in AI is crucial for individuals and organizations looking to leverage these technologies effectively.\n",
      "\n",
      "## Latest Trends in Artificial Intelligence\n",
      "In 2021, AI continues to advance rapidly, with significant progress in machine learning algorithms and models. Natural language processing innovations have also gained traction, enabling AI systems to understand and generate human language more accurately. The integration of AI in healthcare and medical research has shown promising results, enhancing diagnostics, treatment planning, and patient care. However, ethical considerations in AI development remain a critical issue, with discussions focusing on bias, transparency, and accountability.\n",
      "\n",
      "## Key Players in the AI Industry\n",
      "Several leading companies are driving innovation in the AI industry. Google's DeepMind has made significant contributions to AI research, particularly in areas such as reinforcement learning and deep neural networks. IBM Watson is known for its cognitive computing capabilities, helping businesses harness AI for data analysis and decision-making. Amazon Web Services (AWS) and Microsoft Azure offer robust AI platforms and services for cloud computing and machine learning applications. OpenAI, founded by Elon Musk and others, focuses on developing safe and beneficial AI for the future.\n",
      "\n",
      "## Noteworthy News in Artificial Intelligence\n",
      "Recent breakthroughs in AI technology have included advancements in computer vision, robotics, and autonomous systems. AI applications in autonomous vehicles have shown promise for enhancing transportation safety and efficiency. Updates on AI ethics and regulations aim to address concerns about data privacy, algorithmic bias, and AI-related risks. The impact of AI on the job market and economy continues to be a topic of discussion, with debates on automation, workforce displacement, and upskilling opportunities.\n",
      "\n",
      "## Target Audience\n",
      "This blog post caters to a diverse audience interested in AI, including tech enthusiasts, business professionals, students, researchers, and decision-makers. By providing insights into the latest trends, key players, and news in AI, readers can stay informed and make informed decisions about AI integration and adoption.\n",
      "\n",
      "## Audience Interests and Pain Points\n",
      "The target audience for this blog post is interested in cutting-edge technology and innovation, seeking practical applications and case studies in AI. Concerns about AI's impact on society, privacy, and ethical considerations are also addressed, providing a balanced perspective on the opportunities and challenges of AI technology.\n",
      "\n",
      "## Call to Action\n",
      "To stay informed on AI trends and developments, readers are encouraged to follow reputable AI news sources and join AI forums or communities for networking and learning opportunities. By staying engaged with the AI community, individuals can expand their knowledge, share insights, and contribute to the responsible development and deployment of AI technologies.\n",
      "\n",
      "In conclusion, the future of Artificial Intelligence is filled with exciting possibilities and challenges. By staying informed and actively participating in the AI ecosystem, individuals can contribute to the ethical and responsible advancement of AI technology for the benefit of society as a whole.\u001b[0m\n",
      "\n",
      "\u001b[1m> Finished chain.\u001b[0m\n",
      "\u001b[1m\u001b[92m [DEBUG]: == [Content Writer] Task output: # The Future of Artificial Intelligence: Trends, Players, and News\n",
      "\n",
      "## Introduction\n",
      "Artificial Intelligence (AI) has revolutionized various industries by providing advanced technologies and solutions. From machine learning to natural language processing, AI has transformed the way businesses operate and innovate. Staying updated on the latest trends and news in AI is crucial for individuals and organizations looking to leverage these technologies effectively.\n",
      "\n",
      "## Latest Trends in Artificial Intelligence\n",
      "In 2021, AI continues to advance rapidly, with significant progress in machine learning algorithms and models. Natural language processing innovations have also gained traction, enabling AI systems to understand and generate human language more accurately. The integration of AI in healthcare and medical research has shown promising results, enhancing diagnostics, treatment planning, and patient care. However, ethical considerations in AI development remain a critical issue, with discussions focusing on bias, transparency, and accountability.\n",
      "\n",
      "## Key Players in the AI Industry\n",
      "Several leading companies are driving innovation in the AI industry. Google's DeepMind has made significant contributions to AI research, particularly in areas such as reinforcement learning and deep neural networks. IBM Watson is known for its cognitive computing capabilities, helping businesses harness AI for data analysis and decision-making. Amazon Web Services (AWS) and Microsoft Azure offer robust AI platforms and services for cloud computing and machine learning applications. OpenAI, founded by Elon Musk and others, focuses on developing safe and beneficial AI for the future.\n",
      "\n",
      "## Noteworthy News in Artificial Intelligence\n",
      "Recent breakthroughs in AI technology have included advancements in computer vision, robotics, and autonomous systems. AI applications in autonomous vehicles have shown promise for enhancing transportation safety and efficiency. Updates on AI ethics and regulations aim to address concerns about data privacy, algorithmic bias, and AI-related risks. The impact of AI on the job market and economy continues to be a topic of discussion, with debates on automation, workforce displacement, and upskilling opportunities.\n",
      "\n",
      "## Target Audience\n",
      "This blog post caters to a diverse audience interested in AI, including tech enthusiasts, business professionals, students, researchers, and decision-makers. By providing insights into the latest trends, key players, and news in AI, readers can stay informed and make informed decisions about AI integration and adoption.\n",
      "\n",
      "## Audience Interests and Pain Points\n",
      "The target audience for this blog post is interested in cutting-edge technology and innovation, seeking practical applications and case studies in AI. Concerns about AI's impact on society, privacy, and ethical considerations are also addressed, providing a balanced perspective on the opportunities and challenges of AI technology.\n",
      "\n",
      "## Call to Action\n",
      "To stay informed on AI trends and developments, readers are encouraged to follow reputable AI news sources and join AI forums or communities for networking and learning opportunities. By staying engaged with the AI community, individuals can expand their knowledge, share insights, and contribute to the responsible development and deployment of AI technologies.\n",
      "\n",
      "In conclusion, the future of Artificial Intelligence is filled with exciting possibilities and challenges. By staying informed and actively participating in the AI ecosystem, individuals can contribute to the ethical and responsible advancement of AI technology for the benefit of society as a whole.\n",
      "\n",
      "\u001b[00m\n",
      "\u001b[1m\u001b[95m [DEBUG]: == Working Agent: Editor\u001b[00m\n",
      "\u001b[1m\u001b[95m [INFO]: == Starting Task: Proofread the given blog post for grammatical errors and alignment with the brand's voice.\u001b[00m\n",
      "\n",
      "\n",
      "\u001b[1m> Entering new CrewAgentExecutor chain...\u001b[0m\n"
     ]
    },
    {
     "name": "stdout",
     "output_type": "stream",
     "text": [
      "\u001b[32;1m\u001b[1;3mI now can give a great answer\n",
      "\n",
      "Final Answer: \n",
      "\n",
      "# The Future of Artificial Intelligence: Trends, Players, and News\n",
      "\n",
      "## Introduction\n",
      "Artificial Intelligence (AI) has revolutionized various industries by providing advanced technologies and solutions. From machine learning to natural language processing, AI has transformed the way businesses operate and innovate. Staying updated on the latest trends and news in AI is crucial for individuals and organizations looking to leverage these technologies effectively.\n",
      "\n",
      "## Latest Trends in Artificial Intelligence\n",
      "In 2021, AI continues to advance rapidly, with significant progress in machine learning algorithms and models. Natural language processing innovations have also gained traction, enabling AI systems to understand and generate human language more accurately. The integration of AI in healthcare and medical research has shown promising results, enhancing diagnostics, treatment planning, and patient care. However, ethical considerations in AI development remain a critical issue, with discussions focusing on bias, transparency, and accountability.\n",
      "\n",
      "## Key Players in the AI Industry\n",
      "Several leading companies are driving innovation in the AI industry. Google's DeepMind has made significant contributions to AI research, particularly in areas such as reinforcement learning and deep neural networks. IBM Watson is known for its cognitive computing capabilities, helping businesses harness AI for data analysis and decision-making. Amazon Web Services (AWS) and Microsoft Azure offer robust AI platforms and services for cloud computing and machine learning applications. OpenAI, founded by Elon Musk and others, focuses on developing safe and beneficial AI for the future.\n",
      "\n",
      "## Noteworthy News in Artificial Intelligence\n",
      "Recent breakthroughs in AI technology have included advancements in computer vision, robotics, and autonomous systems. AI applications in autonomous vehicles have shown promise for enhancing transportation safety and efficiency. Updates on AI ethics and regulations aim to address concerns about data privacy, algorithmic bias, and AI-related risks. The impact of AI on the job market and economy continues to be a topic of discussion, with debates on automation, workforce displacement, and upskilling opportunities.\n",
      "\n",
      "## Target Audience\n",
      "This blog post caters to a diverse audience interested in AI, including tech enthusiasts, business professionals, students, researchers, and decision-makers. By providing insights into the latest trends, key players, and news in AI, readers can stay informed and make informed decisions about AI integration and adoption.\n",
      "\n",
      "## Audience Interests and Pain Points\n",
      "The target audience for this blog post is interested in cutting-edge technology and innovation, seeking practical applications and case studies in AI. Concerns about AI's impact on society, privacy, and ethical considerations are also addressed, providing a balanced perspective on the opportunities and challenges of AI technology.\n",
      "\n",
      "## Call to Action\n",
      "To stay informed on AI trends and developments, readers are encouraged to follow reputable AI news sources and join AI forums or communities for networking and learning opportunities. By staying engaged with the AI community, individuals can expand their knowledge, share insights, and contribute to the responsible development and deployment of AI technologies.\n",
      "\n",
      "In conclusion, the future of Artificial Intelligence is filled with exciting possibilities and challenges. By staying informed and actively participating in the AI ecosystem, individuals can contribute to the ethical and responsible advancement of AI technology for the benefit of society as a whole.\u001b[0m\n",
      "\n",
      "\u001b[1m> Finished chain.\u001b[0m\n",
      "\u001b[1m\u001b[92m [DEBUG]: == [Editor] Task output: # The Future of Artificial Intelligence: Trends, Players, and News\n",
      "\n",
      "## Introduction\n",
      "Artificial Intelligence (AI) has revolutionized various industries by providing advanced technologies and solutions. From machine learning to natural language processing, AI has transformed the way businesses operate and innovate. Staying updated on the latest trends and news in AI is crucial for individuals and organizations looking to leverage these technologies effectively.\n",
      "\n",
      "## Latest Trends in Artificial Intelligence\n",
      "In 2021, AI continues to advance rapidly, with significant progress in machine learning algorithms and models. Natural language processing innovations have also gained traction, enabling AI systems to understand and generate human language more accurately. The integration of AI in healthcare and medical research has shown promising results, enhancing diagnostics, treatment planning, and patient care. However, ethical considerations in AI development remain a critical issue, with discussions focusing on bias, transparency, and accountability.\n",
      "\n",
      "## Key Players in the AI Industry\n",
      "Several leading companies are driving innovation in the AI industry. Google's DeepMind has made significant contributions to AI research, particularly in areas such as reinforcement learning and deep neural networks. IBM Watson is known for its cognitive computing capabilities, helping businesses harness AI for data analysis and decision-making. Amazon Web Services (AWS) and Microsoft Azure offer robust AI platforms and services for cloud computing and machine learning applications. OpenAI, founded by Elon Musk and others, focuses on developing safe and beneficial AI for the future.\n",
      "\n",
      "## Noteworthy News in Artificial Intelligence\n",
      "Recent breakthroughs in AI technology have included advancements in computer vision, robotics, and autonomous systems. AI applications in autonomous vehicles have shown promise for enhancing transportation safety and efficiency. Updates on AI ethics and regulations aim to address concerns about data privacy, algorithmic bias, and AI-related risks. The impact of AI on the job market and economy continues to be a topic of discussion, with debates on automation, workforce displacement, and upskilling opportunities.\n",
      "\n",
      "## Target Audience\n",
      "This blog post caters to a diverse audience interested in AI, including tech enthusiasts, business professionals, students, researchers, and decision-makers. By providing insights into the latest trends, key players, and news in AI, readers can stay informed and make informed decisions about AI integration and adoption.\n",
      "\n",
      "## Audience Interests and Pain Points\n",
      "The target audience for this blog post is interested in cutting-edge technology and innovation, seeking practical applications and case studies in AI. Concerns about AI's impact on society, privacy, and ethical considerations are also addressed, providing a balanced perspective on the opportunities and challenges of AI technology.\n",
      "\n",
      "## Call to Action\n",
      "To stay informed on AI trends and developments, readers are encouraged to follow reputable AI news sources and join AI forums or communities for networking and learning opportunities. By staying engaged with the AI community, individuals can expand their knowledge, share insights, and contribute to the responsible development and deployment of AI technologies.\n",
      "\n",
      "In conclusion, the future of Artificial Intelligence is filled with exciting possibilities and challenges. By staying informed and actively participating in the AI ecosystem, individuals can contribute to the ethical and responsible advancement of AI technology for the benefit of society as a whole.\n",
      "\n",
      "\u001b[00m\n"
     ]
    }
   ],
   "source": [
    "result = crew.kickoff(inputs={\"topic\": \"Artificial Intelligence\"})"
   ]
  },
  {
   "cell_type": "markdown",
   "metadata": {},
   "source": [
    "- Display the results of your execution as markdown in the notebook."
   ]
  },
  {
   "cell_type": "code",
   "execution_count": 15,
   "metadata": {
    "height": 47
   },
   "outputs": [
    {
     "data": {
      "text/markdown": [
       "# The Importance of Mental Health in the Workplace\n",
       "\n",
       "In recent years, there has been a significant emphasis on mental health in the workplace, particularly in light of the challenges posed by the COVID-19 pandemic. Employers, HR departments, mental health organizations, and advocates have all come to realize the importance of prioritizing mental well-being in the workplace. Research has shown that mental health directly influences productivity and employee well-being, making it a critical component of overall workplace culture.\n",
       "\n",
       "## Statistics on Mental Health Issues in the Workplace\n",
       "\n",
       "The World Health Organization highlights that mental health conditions such as depression and anxiety are key contributors to absenteeism and presenteeism in work settings. Shockingly, the WHO estimates that depression and anxiety disorders result in a staggering $1 trillion loss in global productivity annually. Furthermore, the American Psychological Association notes that stress-related concerns are prevalent in workplaces, leading to reduced job satisfaction and heightened turnover rates.\n",
       "\n",
       "## Strategies for Promoting Mental Health at Work\n",
       "\n",
       "To tackle mental health challenges in the workplace, employers can adopt a range of strategies to enhance the well-being of their employees. These strategies may involve providing access to mental health services, offering flexible work arrangements, and fostering a supportive work environment that destigmatizes mental health issues. Training initiatives focusing on mental health awareness and resilience building can also be instrumental in empowering employees to effectively manage stress and maintain a healthy work-life balance.\n",
       "\n",
       "## Benefits of Supporting Mental Health in the Workplace\n",
       "\n",
       "Supporting mental health in the workplace not only benefits employees but also contributes to the overall productivity and success of the organization. Employees who feel supported in their mental well-being tend to be more engaged, motivated, and efficient. They are also less likely to experience burnout and are more inclined to remain with the company in the long run. By prioritizing mental health in workplace policies and practices, employers can establish a positive and inclusive work environment where employees feel valued and well-supported.\n",
       "\n",
       "In conclusion, the significance of mental health in the workplace cannot be overstated. Employers play a pivotal role in championing mental well-being among their employees, ultimately resulting in heightened productivity, job satisfaction, and overall prosperity for the organization. It is imperative for employers to prioritize mental health in their workplace policies and practices to cultivate a nurturing and thriving work environment for all employees."
      ],
      "text/plain": [
       "<IPython.core.display.Markdown object>"
      ]
     },
     "execution_count": 15,
     "metadata": {},
     "output_type": "execute_result"
    }
   ],
   "source": [
    "from IPython.display import Markdown\n",
    "Markdown(result)"
   ]
  },
  {
   "cell_type": "markdown",
   "metadata": {},
   "source": [
    "## Try it Yourself\n",
    "\n",
    "- Pass in a topic of your choice and see what the agents come up with!"
   ]
  },
  {
   "cell_type": "code",
   "execution_count": 16,
   "metadata": {
    "height": 64
   },
   "outputs": [
    {
     "name": "stdout",
     "output_type": "stream",
     "text": [
      "\u001b[1m\u001b[95m [DEBUG]: == Working Agent: Content Planner\u001b[00m\n",
      "\u001b[1m\u001b[95m [INFO]: == Starting Task: 1. Prioritize the latest trends, key players, and noteworthy news on Carbon Sequestration and Carbon Capture.\n",
      "2. Identify the target audience, considering their interests and pain points.\n",
      "3. Develop a detailed content outline including an introduction, key points, and a call to action.\n",
      "4. Include SEO keywords and relevant data or sources.\u001b[00m\n",
      "\n",
      "\n",
      "\u001b[1m> Entering new CrewAgentExecutor chain...\u001b[0m\n",
      "\u001b[32;1m\u001b[1;3mI now can give a great answer\n",
      "\n",
      "Final Answer:\n",
      "Content Plan Document: \n",
      "Title: The Importance of Carbon Sequestration and Carbon Capture\n",
      "\n",
      "Outline:\n",
      "I. Introduction\n",
      "    A. Definition of Carbon Sequestration and Carbon Capture\n",
      "    B. Importance of these processes in mitigating climate change\n",
      "II. Latest Trends in Carbon Sequestration and Carbon Capture\n",
      "    A. Advancements in technology and research\n",
      "    B. Global initiatives and policies promoting carbon sequestration\n",
      "III. Key Players in the Industry\n",
      "    A. Leading companies investing in carbon capture technology\n",
      "    B. Noteworthy organizations working on carbon sequestration projects\n",
      "IV. Target Audience Analysis\n",
      "    A. Environmental enthusiasts and activists\n",
      "    B. Businesses looking to reduce their carbon footprint\n",
      "    C. Policy makers and government officials\n",
      "V. Pain Points of the Audience\n",
      "    A. Concerns about the impact of climate change\n",
      "    B. Desire to implement sustainable practices\n",
      "VI. SEO Keywords:\n",
      "    A. Carbon sequestration\n",
      "    B. Carbon capture technology\n",
      "    C. Climate change mitigation\n",
      "    D. Sustainable practices\n",
      "VII. Call to Action\n",
      "    A. Encourage readers to support carbon sequestration projects\n",
      "    B. Provide tips for reducing carbon emissions in daily life\n",
      "VIII. Resources:\n",
      "    A. IPCC Special Report on Global Warming of 1.5°C\n",
      "    B. Carbon Capture and Storage Association\n",
      "    C. United Nations Framework Convention on Climate Change\n",
      "\n",
      "By following this comprehensive content plan, the blog article on Carbon Sequestration and Carbon Capture will provide valuable information to the target audience, address their pain points, and encourage action towards a more sustainable future.\u001b[0m\n",
      "\n",
      "\u001b[1m> Finished chain.\u001b[0m\n",
      "\u001b[1m\u001b[92m [DEBUG]: == [Content Planner] Task output: Content Plan Document: \n",
      "Title: The Importance of Carbon Sequestration and Carbon Capture\n",
      "\n",
      "Outline:\n",
      "I. Introduction\n",
      "    A. Definition of Carbon Sequestration and Carbon Capture\n",
      "    B. Importance of these processes in mitigating climate change\n",
      "II. Latest Trends in Carbon Sequestration and Carbon Capture\n",
      "    A. Advancements in technology and research\n",
      "    B. Global initiatives and policies promoting carbon sequestration\n",
      "III. Key Players in the Industry\n",
      "    A. Leading companies investing in carbon capture technology\n",
      "    B. Noteworthy organizations working on carbon sequestration projects\n",
      "IV. Target Audience Analysis\n",
      "    A. Environmental enthusiasts and activists\n",
      "    B. Businesses looking to reduce their carbon footprint\n",
      "    C. Policy makers and government officials\n",
      "V. Pain Points of the Audience\n",
      "    A. Concerns about the impact of climate change\n",
      "    B. Desire to implement sustainable practices\n",
      "VI. SEO Keywords:\n",
      "    A. Carbon sequestration\n",
      "    B. Carbon capture technology\n",
      "    C. Climate change mitigation\n",
      "    D. Sustainable practices\n",
      "VII. Call to Action\n",
      "    A. Encourage readers to support carbon sequestration projects\n",
      "    B. Provide tips for reducing carbon emissions in daily life\n",
      "VIII. Resources:\n",
      "    A. IPCC Special Report on Global Warming of 1.5°C\n",
      "    B. Carbon Capture and Storage Association\n",
      "    C. United Nations Framework Convention on Climate Change\n",
      "\n",
      "By following this comprehensive content plan, the blog article on Carbon Sequestration and Carbon Capture will provide valuable information to the target audience, address their pain points, and encourage action towards a more sustainable future.\n",
      "\n",
      "\u001b[00m\n",
      "\u001b[1m\u001b[95m [DEBUG]: == Working Agent: Content Writer\u001b[00m\n",
      "\u001b[1m\u001b[95m [INFO]: == Starting Task: 1. Use the content plan to craft a compelling blog post on Carbon Sequestration and Carbon Capture.\n",
      "2. Incorporate SEO keywords naturally.\n",
      "3. Sections/Subtitles are properly named in an engaging manner.\n",
      "4. Ensure the post is structured with an engaging introduction, insightful body, and a summarizing conclusion.\n",
      "5. Proofread for grammatical errors and alignment with the brand's voice.\n",
      "\u001b[00m\n",
      "\n",
      "\n",
      "\u001b[1m> Entering new CrewAgentExecutor chain...\u001b[0m\n",
      "\u001b[32;1m\u001b[1;3mI now can give a great answer\n",
      "\n",
      "Final Answer:\n",
      "# The Importance of Carbon Sequestration and Carbon Capture\n",
      "\n",
      "## Introduction\n",
      "Carbon sequestration and carbon capture are essential processes in the fight against climate change. **Carbon sequestration** refers to the natural or artificial process by which carbon dioxide is removed from the atmosphere and stored in carbon sinks such as forests, oceans, and soil. On the other hand, **carbon capture** involves capturing carbon dioxide emissions from sources like power plants and industrial facilities before they are released into the atmosphere. These processes play a crucial role in reducing greenhouse gas emissions and mitigating the effects of global warming.\n",
      "\n",
      "## Latest Trends in Carbon Sequestration and Carbon Capture\n",
      "Recent advancements in technology and research have significantly improved the efficiency and effectiveness of carbon sequestration and carbon capture methods. Innovations such as direct air capture and enhanced weathering techniques are making it possible to remove larger quantities of carbon dioxide from the atmosphere. Moreover, global initiatives and policies, such as the Paris Agreement, are driving countries to invest in carbon sequestration projects and implement carbon capture technologies to meet their emissions reduction goals.\n",
      "\n",
      "## Key Players in the Industry\n",
      "Leading companies like Carbon Engineering and Climeworks are at the forefront of investing in carbon capture technology, developing innovative solutions to tackle climate change. Organizations such as The Nature Conservancy and Terra Global are actively involved in carbon sequestration projects, working to restore degraded ecosystems and enhance natural carbon sinks. These key players are driving progress towards a more sustainable future by promoting the adoption of carbon sequestration and carbon capture technologies.\n",
      "\n",
      "## Target Audience Analysis\n",
      "Environmental enthusiasts, businesses looking to reduce their carbon footprint, and policy makers are the primary audience for information on carbon sequestration and carbon capture. Environmental enthusiasts are concerned about the impact of climate change and are eager to support initiatives that promote sustainable practices. Businesses are increasingly recognizing the importance of reducing their carbon emissions and are seeking innovative solutions to achieve carbon neutrality. Policy makers play a crucial role in implementing regulations and policies that support carbon sequestration and carbon capture efforts.\n",
      "\n",
      "## Pain Points of the Audience\n",
      "The audience's main pain points revolve around concerns about the escalating impact of climate change and the urgent need to implement sustainable practices. Environmental enthusiasts are alarmed by the rising global temperatures, extreme weather events, and biodiversity loss attributed to climate change. Businesses are facing pressure from consumers and stakeholders to reduce their carbon footprint and adopt environmentally friendly practices. Policy makers are under scrutiny to enact policies that effectively address climate change and promote sustainable development.\n",
      "\n",
      "## Call to Action\n",
      "As individuals, we can support carbon sequestration projects by participating in reforestation efforts, reducing our energy consumption, and advocating for sustainable practices in our communities. Businesses can reduce their carbon emissions by investing in renewable energy sources, implementing energy-efficient technologies, and offsetting their remaining emissions through carbon offset programs. Policy makers can support carbon sequestration and carbon capture initiatives by enacting legislation that incentivizes emission reductions and promotes the development of carbon-neutral technologies.\n",
      "\n",
      "In conclusion, carbon sequestration and carbon capture are vital tools in the fight against climate change. By understanding the importance of these processes, supporting initiatives that promote sustainable practices, and advocating for policies that prioritize emissions reduction, we can collectively work towards a more sustainable future for our planet.\n",
      "\n",
      "### Resources:\n",
      "- IPCC Special Report on Global Warming of 1.5°C\n",
      "- Carbon Capture and Storage Association\n",
      "- United Nations Framework Convention on Climate Change\u001b[0m\n",
      "\n",
      "\u001b[1m> Finished chain.\u001b[0m\n",
      "\u001b[1m\u001b[92m [DEBUG]: == [Content Writer] Task output: # The Importance of Carbon Sequestration and Carbon Capture\n",
      "\n",
      "## Introduction\n",
      "Carbon sequestration and carbon capture are essential processes in the fight against climate change. **Carbon sequestration** refers to the natural or artificial process by which carbon dioxide is removed from the atmosphere and stored in carbon sinks such as forests, oceans, and soil. On the other hand, **carbon capture** involves capturing carbon dioxide emissions from sources like power plants and industrial facilities before they are released into the atmosphere. These processes play a crucial role in reducing greenhouse gas emissions and mitigating the effects of global warming.\n",
      "\n",
      "## Latest Trends in Carbon Sequestration and Carbon Capture\n",
      "Recent advancements in technology and research have significantly improved the efficiency and effectiveness of carbon sequestration and carbon capture methods. Innovations such as direct air capture and enhanced weathering techniques are making it possible to remove larger quantities of carbon dioxide from the atmosphere. Moreover, global initiatives and policies, such as the Paris Agreement, are driving countries to invest in carbon sequestration projects and implement carbon capture technologies to meet their emissions reduction goals.\n",
      "\n",
      "## Key Players in the Industry\n",
      "Leading companies like Carbon Engineering and Climeworks are at the forefront of investing in carbon capture technology, developing innovative solutions to tackle climate change. Organizations such as The Nature Conservancy and Terra Global are actively involved in carbon sequestration projects, working to restore degraded ecosystems and enhance natural carbon sinks. These key players are driving progress towards a more sustainable future by promoting the adoption of carbon sequestration and carbon capture technologies.\n",
      "\n",
      "## Target Audience Analysis\n",
      "Environmental enthusiasts, businesses looking to reduce their carbon footprint, and policy makers are the primary audience for information on carbon sequestration and carbon capture. Environmental enthusiasts are concerned about the impact of climate change and are eager to support initiatives that promote sustainable practices. Businesses are increasingly recognizing the importance of reducing their carbon emissions and are seeking innovative solutions to achieve carbon neutrality. Policy makers play a crucial role in implementing regulations and policies that support carbon sequestration and carbon capture efforts.\n",
      "\n",
      "## Pain Points of the Audience\n",
      "The audience's main pain points revolve around concerns about the escalating impact of climate change and the urgent need to implement sustainable practices. Environmental enthusiasts are alarmed by the rising global temperatures, extreme weather events, and biodiversity loss attributed to climate change. Businesses are facing pressure from consumers and stakeholders to reduce their carbon footprint and adopt environmentally friendly practices. Policy makers are under scrutiny to enact policies that effectively address climate change and promote sustainable development.\n",
      "\n",
      "## Call to Action\n",
      "As individuals, we can support carbon sequestration projects by participating in reforestation efforts, reducing our energy consumption, and advocating for sustainable practices in our communities. Businesses can reduce their carbon emissions by investing in renewable energy sources, implementing energy-efficient technologies, and offsetting their remaining emissions through carbon offset programs. Policy makers can support carbon sequestration and carbon capture initiatives by enacting legislation that incentivizes emission reductions and promotes the development of carbon-neutral technologies.\n",
      "\n",
      "In conclusion, carbon sequestration and carbon capture are vital tools in the fight against climate change. By understanding the importance of these processes, supporting initiatives that promote sustainable practices, and advocating for policies that prioritize emissions reduction, we can collectively work towards a more sustainable future for our planet.\n",
      "\n",
      "### Resources:\n",
      "- IPCC Special Report on Global Warming of 1.5°C\n",
      "- Carbon Capture and Storage Association\n",
      "- United Nations Framework Convention on Climate Change\n",
      "\n",
      "\u001b[00m\n",
      "\u001b[1m\u001b[95m [DEBUG]: == Working Agent: Editor\u001b[00m\n",
      "\u001b[1m\u001b[95m [INFO]: == Starting Task: Proofread the given blog post for grammatical errors and alignment with the brand's voice.\u001b[00m\n",
      "\n",
      "\n",
      "\u001b[1m> Entering new CrewAgentExecutor chain...\u001b[0m\n"
     ]
    },
    {
     "name": "stdout",
     "output_type": "stream",
     "text": [
      "\u001b[32;1m\u001b[1;3mI now can give a great answer\n",
      "\n",
      "Final Answer:\n",
      "# The Importance of Carbon Sequestration and Carbon Capture\n",
      "\n",
      "## Introduction\n",
      "Carbon sequestration and carbon capture are essential processes in the fight against climate change. **Carbon sequestration** refers to the natural or artificial process by which carbon dioxide is removed from the atmosphere and stored in carbon sinks such as forests, oceans, and soil. On the other hand, **carbon capture** involves capturing carbon dioxide emissions from sources like power plants and industrial facilities before they are released into the atmosphere. These processes play a crucial role in reducing greenhouse gas emissions and mitigating the effects of global warming.\n",
      "\n",
      "## Latest Trends in Carbon Sequestration and Carbon Capture\n",
      "Recent advancements in technology and research have significantly improved the efficiency and effectiveness of carbon sequestration and carbon capture methods. Innovations such as direct air capture and enhanced weathering techniques are making it possible to remove larger quantities of carbon dioxide from the atmosphere. Moreover, global initiatives and policies, such as the Paris Agreement, are driving countries to invest in carbon sequestration projects and implement carbon capture technologies to meet their emissions reduction goals.\n",
      "\n",
      "## Key Players in the Industry\n",
      "Leading companies like Carbon Engineering and Climeworks are at the forefront of investing in carbon capture technology, developing innovative solutions to tackle climate change. Organizations such as The Nature Conservancy and Terra Global are actively involved in carbon sequestration projects, working to restore degraded ecosystems and enhance natural carbon sinks. These key players are driving progress towards a more sustainable future by promoting the adoption of carbon sequestration and carbon capture technologies.\n",
      "\n",
      "## Target Audience Analysis\n",
      "Environmental enthusiasts, businesses looking to reduce their carbon footprint, and policy makers are the primary audience for information on carbon sequestration and carbon capture. Environmental enthusiasts are concerned about the impact of climate change and are eager to support initiatives that promote sustainable practices. Businesses are increasingly recognizing the importance of reducing their carbon emissions and are seeking innovative solutions to achieve carbon neutrality. Policy makers play a crucial role in implementing regulations and policies that support carbon sequestration and carbon capture efforts.\n",
      "\n",
      "## Pain Points of the Audience\n",
      "The audience's main pain points revolve around concerns about the escalating impact of climate change and the urgent need to implement sustainable practices. Environmental enthusiasts are alarmed by the rising global temperatures, extreme weather events, and biodiversity loss attributed to climate change. Businesses are facing pressure from consumers and stakeholders to reduce their carbon footprint and adopt environmentally friendly practices. Policy makers are under scrutiny to enact policies that effectively address climate change and promote sustainable development.\n",
      "\n",
      "## Call to Action\n",
      "As individuals, we can support carbon sequestration projects by participating in reforestation efforts, reducing our energy consumption, and advocating for sustainable practices in our communities. Businesses can reduce their carbon emissions by investing in renewable energy sources, implementing energy-efficient technologies, and offsetting their remaining emissions through carbon offset programs. Policy makers can support carbon sequestration and carbon capture initiatives by enacting legislation that incentivizes emission reductions and promotes the development of carbon-neutral technologies.\n",
      "\n",
      "In conclusion, carbon sequestration and carbon capture are vital tools in the fight against climate change. By understanding the importance of these processes, supporting initiatives that promote sustainable practices, and advocating for policies that prioritize emissions reduction, we can collectively work towards a more sustainable future for our planet.\n",
      "\n",
      "### Resources:\n",
      "- IPCC Special Report on Global Warming of 1.5°C\n",
      "- Carbon Capture and Storage Association\n",
      "- United Nations Framework Convention on Climate Change\u001b[0m\n",
      "\n",
      "\u001b[1m> Finished chain.\u001b[0m\n",
      "\u001b[1m\u001b[92m [DEBUG]: == [Editor] Task output: # The Importance of Carbon Sequestration and Carbon Capture\n",
      "\n",
      "## Introduction\n",
      "Carbon sequestration and carbon capture are essential processes in the fight against climate change. **Carbon sequestration** refers to the natural or artificial process by which carbon dioxide is removed from the atmosphere and stored in carbon sinks such as forests, oceans, and soil. On the other hand, **carbon capture** involves capturing carbon dioxide emissions from sources like power plants and industrial facilities before they are released into the atmosphere. These processes play a crucial role in reducing greenhouse gas emissions and mitigating the effects of global warming.\n",
      "\n",
      "## Latest Trends in Carbon Sequestration and Carbon Capture\n",
      "Recent advancements in technology and research have significantly improved the efficiency and effectiveness of carbon sequestration and carbon capture methods. Innovations such as direct air capture and enhanced weathering techniques are making it possible to remove larger quantities of carbon dioxide from the atmosphere. Moreover, global initiatives and policies, such as the Paris Agreement, are driving countries to invest in carbon sequestration projects and implement carbon capture technologies to meet their emissions reduction goals.\n",
      "\n",
      "## Key Players in the Industry\n",
      "Leading companies like Carbon Engineering and Climeworks are at the forefront of investing in carbon capture technology, developing innovative solutions to tackle climate change. Organizations such as The Nature Conservancy and Terra Global are actively involved in carbon sequestration projects, working to restore degraded ecosystems and enhance natural carbon sinks. These key players are driving progress towards a more sustainable future by promoting the adoption of carbon sequestration and carbon capture technologies.\n",
      "\n",
      "## Target Audience Analysis\n",
      "Environmental enthusiasts, businesses looking to reduce their carbon footprint, and policy makers are the primary audience for information on carbon sequestration and carbon capture. Environmental enthusiasts are concerned about the impact of climate change and are eager to support initiatives that promote sustainable practices. Businesses are increasingly recognizing the importance of reducing their carbon emissions and are seeking innovative solutions to achieve carbon neutrality. Policy makers play a crucial role in implementing regulations and policies that support carbon sequestration and carbon capture efforts.\n",
      "\n",
      "## Pain Points of the Audience\n",
      "The audience's main pain points revolve around concerns about the escalating impact of climate change and the urgent need to implement sustainable practices. Environmental enthusiasts are alarmed by the rising global temperatures, extreme weather events, and biodiversity loss attributed to climate change. Businesses are facing pressure from consumers and stakeholders to reduce their carbon footprint and adopt environmentally friendly practices. Policy makers are under scrutiny to enact policies that effectively address climate change and promote sustainable development.\n",
      "\n",
      "## Call to Action\n",
      "As individuals, we can support carbon sequestration projects by participating in reforestation efforts, reducing our energy consumption, and advocating for sustainable practices in our communities. Businesses can reduce their carbon emissions by investing in renewable energy sources, implementing energy-efficient technologies, and offsetting their remaining emissions through carbon offset programs. Policy makers can support carbon sequestration and carbon capture initiatives by enacting legislation that incentivizes emission reductions and promotes the development of carbon-neutral technologies.\n",
      "\n",
      "In conclusion, carbon sequestration and carbon capture are vital tools in the fight against climate change. By understanding the importance of these processes, supporting initiatives that promote sustainable practices, and advocating for policies that prioritize emissions reduction, we can collectively work towards a more sustainable future for our planet.\n",
      "\n",
      "### Resources:\n",
      "- IPCC Special Report on Global Warming of 1.5°C\n",
      "- Carbon Capture and Storage Association\n",
      "- United Nations Framework Convention on Climate Change\n",
      "\n",
      "\u001b[00m\n"
     ]
    }
   ],
   "source": [
    "topic = \"Carbon Sequestration and Carbon Capture\"\n",
    "result = crew.kickoff(inputs={\"topic\": topic})"
   ]
  },
  {
   "cell_type": "code",
   "execution_count": 17,
   "metadata": {
    "height": 30
   },
   "outputs": [
    {
     "data": {
      "text/markdown": [
       "# The Importance of Carbon Sequestration and Carbon Capture\n",
       "\n",
       "## Introduction\n",
       "Carbon sequestration and carbon capture are essential processes in the fight against climate change. **Carbon sequestration** refers to the natural or artificial process by which carbon dioxide is removed from the atmosphere and stored in carbon sinks such as forests, oceans, and soil. On the other hand, **carbon capture** involves capturing carbon dioxide emissions from sources like power plants and industrial facilities before they are released into the atmosphere. These processes play a crucial role in reducing greenhouse gas emissions and mitigating the effects of global warming.\n",
       "\n",
       "## Latest Trends in Carbon Sequestration and Carbon Capture\n",
       "Recent advancements in technology and research have significantly improved the efficiency and effectiveness of carbon sequestration and carbon capture methods. Innovations such as direct air capture and enhanced weathering techniques are making it possible to remove larger quantities of carbon dioxide from the atmosphere. Moreover, global initiatives and policies, such as the Paris Agreement, are driving countries to invest in carbon sequestration projects and implement carbon capture technologies to meet their emissions reduction goals.\n",
       "\n",
       "## Key Players in the Industry\n",
       "Leading companies like Carbon Engineering and Climeworks are at the forefront of investing in carbon capture technology, developing innovative solutions to tackle climate change. Organizations such as The Nature Conservancy and Terra Global are actively involved in carbon sequestration projects, working to restore degraded ecosystems and enhance natural carbon sinks. These key players are driving progress towards a more sustainable future by promoting the adoption of carbon sequestration and carbon capture technologies.\n",
       "\n",
       "## Target Audience Analysis\n",
       "Environmental enthusiasts, businesses looking to reduce their carbon footprint, and policy makers are the primary audience for information on carbon sequestration and carbon capture. Environmental enthusiasts are concerned about the impact of climate change and are eager to support initiatives that promote sustainable practices. Businesses are increasingly recognizing the importance of reducing their carbon emissions and are seeking innovative solutions to achieve carbon neutrality. Policy makers play a crucial role in implementing regulations and policies that support carbon sequestration and carbon capture efforts.\n",
       "\n",
       "## Pain Points of the Audience\n",
       "The audience's main pain points revolve around concerns about the escalating impact of climate change and the urgent need to implement sustainable practices. Environmental enthusiasts are alarmed by the rising global temperatures, extreme weather events, and biodiversity loss attributed to climate change. Businesses are facing pressure from consumers and stakeholders to reduce their carbon footprint and adopt environmentally friendly practices. Policy makers are under scrutiny to enact policies that effectively address climate change and promote sustainable development.\n",
       "\n",
       "## Call to Action\n",
       "As individuals, we can support carbon sequestration projects by participating in reforestation efforts, reducing our energy consumption, and advocating for sustainable practices in our communities. Businesses can reduce their carbon emissions by investing in renewable energy sources, implementing energy-efficient technologies, and offsetting their remaining emissions through carbon offset programs. Policy makers can support carbon sequestration and carbon capture initiatives by enacting legislation that incentivizes emission reductions and promotes the development of carbon-neutral technologies.\n",
       "\n",
       "In conclusion, carbon sequestration and carbon capture are vital tools in the fight against climate change. By understanding the importance of these processes, supporting initiatives that promote sustainable practices, and advocating for policies that prioritize emissions reduction, we can collectively work towards a more sustainable future for our planet.\n",
       "\n",
       "### Resources:\n",
       "- IPCC Special Report on Global Warming of 1.5°C\n",
       "- Carbon Capture and Storage Association\n",
       "- United Nations Framework Convention on Climate Change"
      ],
      "text/plain": [
       "<IPython.core.display.Markdown object>"
      ]
     },
     "execution_count": 17,
     "metadata": {},
     "output_type": "execute_result"
    }
   ],
   "source": [
    "Markdown(result)"
   ]
  },
  {
   "cell_type": "markdown",
   "metadata": {},
   "source": [
    "<a name='1'></a>\n",
    " ## Other Popular Models as LLM for your Agents"
   ]
  },
  {
   "cell_type": "markdown",
   "metadata": {},
   "source": [
    "#### Hugging Face (HuggingFaceHub endpoint)\n",
    "\n",
    "```Python\n",
    "from langchain_community.llms import HuggingFaceHub\n",
    "\n",
    "llm = HuggingFaceHub(\n",
    "    repo_id=\"HuggingFaceH4/zephyr-7b-beta\",\n",
    "    huggingfacehub_api_token=\"<HF_TOKEN_HERE>\",\n",
    "    task=\"text-generation\",\n",
    ")\n",
    "\n",
    "### you will pass \"llm\" to your agent function\n",
    "```"
   ]
  },
  {
   "cell_type": "markdown",
   "metadata": {},
   "source": [
    "#### Mistral API\n",
    "\n",
    "```Python\n",
    "OPENAI_API_KEY=your-mistral-api-key\n",
    "OPENAI_API_BASE=https://api.mistral.ai/v1\n",
    "OPENAI_MODEL_NAME=\"mistral-small\"\n",
    "```"
   ]
  },
  {
   "cell_type": "markdown",
   "metadata": {},
   "source": [
    "#### Cohere\n",
    "\n",
    "```Python\n",
    "from langchain_community.chat_models import ChatCohere\n",
    "# Initialize language model\n",
    "os.environ[\"COHERE_API_KEY\"] = \"your-cohere-api-key\"\n",
    "llm = ChatCohere()\n",
    "\n",
    "### you will pass \"llm\" to your agent function\n",
    "```"
   ]
  },
  {
   "cell_type": "markdown",
   "metadata": {},
   "source": [
    "### For using Llama locally with Ollama and more, checkout the crewAI documentation on [Connecting to any LLM](https://docs.crewai.com/how-to/LLM-Connections/)."
   ]
  },
  {
   "cell_type": "code",
   "execution_count": null,
   "metadata": {
    "height": 30
   },
   "outputs": [],
   "source": []
  },
  {
   "cell_type": "code",
   "execution_count": null,
   "metadata": {
    "height": 30
   },
   "outputs": [],
   "source": []
  },
  {
   "cell_type": "code",
   "execution_count": null,
   "metadata": {
    "height": 30
   },
   "outputs": [],
   "source": []
  }
 ],
 "metadata": {
  "colab": {
   "gpuType": "T4",
   "provenance": []
  },
  "kernelspec": {
   "display_name": "Python 3 (ipykernel)",
   "language": "python",
   "name": "python3"
  },
  "language_info": {
   "codemirror_mode": {
    "name": "ipython",
    "version": 3
   },
   "file_extension": ".py",
   "mimetype": "text/x-python",
   "name": "python",
   "nbconvert_exporter": "python",
   "pygments_lexer": "ipython3",
   "version": "3.11.9"
  }
 },
 "nbformat": 4,
 "nbformat_minor": 4
}
